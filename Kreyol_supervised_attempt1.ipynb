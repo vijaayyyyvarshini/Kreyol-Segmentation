{
  "nbformat": 4,
  "nbformat_minor": 0,
  "metadata": {
    "colab": {
      "provenance": []
    },
    "kernelspec": {
      "name": "python3",
      "display_name": "Python 3"
    },
    "language_info": {
      "name": "python"
    }
  },
  "cells": [
    {
      "cell_type": "code",
      "execution_count": 3,
      "metadata": {
        "id": "xWZOYzk6o-3b"
      },
      "outputs": [],
      "source": [
        "import numpy as np\n",
        "import pandas as pd"
      ]
    },
    {
      "cell_type": "code",
      "source": [
        "from google.colab import drive\n",
        "drive.mount('/content/drive')\n",
        "%cd /content/drive/'MyDrive'\n",
        "%ls"
      ],
      "metadata": {
        "colab": {
          "base_uri": "https://localhost:8080/"
        },
        "id": "0gRJHEL3o__k",
        "outputId": "c7d2084d-a9ec-48f4-d4ed-c8fd00bcb717"
      },
      "execution_count": 4,
      "outputs": [
        {
          "output_type": "stream",
          "name": "stdout",
          "text": [
            "Drive already mounted at /content/drive; to attempt to forcibly remount, call drive.mount(\"/content/drive\", force_remount=True).\n",
            "/content/drive/MyDrive\n",
            "'10 22 2021.gdoc'\n",
            " 136817BC-0A78-4D48-AE08-A84D3CA61EB9.jpeg\n",
            "'An Intelligent System for Waste Materials Segregation Using IoT and Deep Learning.pdf'\n",
            " baby.jpeg\n",
            " batches.meta\n",
            " \u001b[0m\u001b[01;34mbigdata\u001b[0m/\n",
            " bigdata_project.gslides\n",
            " breast-cancer.data\n",
            "'car (1).data'\n",
            " checkmodel.h5\n",
            " CN2_screenshot.gdoc\n",
            " CN_Homework1.gdoc\n",
            "'CN_Homework 2.gdoc'\n",
            " CN_homework3.gdoc\n",
            " CN_pipeline.gdoc\n",
            "\u001b[01;34m'Colab Notebooks'\u001b[0m/\n",
            "'COMPUTER VISION ASSIGNMENT 3.gdoc'\n",
            "\u001b[01;36m'Copy of Pepsi and Vending Refund Request.gform'\u001b[0m@\n",
            "'Copy of Pepsi and Vending Refund Request OLD.gform'\n",
            "'Copy of Pepsi and Vending Refunds (Responses) OLD.gsheet'\n",
            "\u001b[01;36m'Copy of Student Development Bank Deposit Form.gform'\u001b[0m@\n",
            "'CSCI 4930 - BIG DATA ANALYTICS.gdoc'\n",
            "'CSO Reimbursement Request Form - Pending.gsheet'\n",
            "'CV - 0121.gdoc'\n",
            " CV_FinalProject.gdoc\n",
            " data_batch_1\n",
            " data_batch_2\n",
            " data_batch_3\n",
            " data_batch_4\n",
            " data_batch_5\n",
            "'Data Science Notes.gdoc'\n",
            "\u001b[01;34m'Deep Learning Notebooks'\u001b[0m/\n",
            " DL_inference.gdoc\n",
            " DL_Project_GI_Tracking.gslides\n",
            " ecoli.data\n",
            "'Emma Project.gdoc'\n",
            "'Emma Research Project.gdoc'\n",
            "\u001b[01;34m'E(mpower) Funds Request Form (File responses)'\u001b[0m/\n",
            "\u001b[01;36m'E(mpower) Funds Request Form.gform'\u001b[0m@\n",
            "'English Blurbs summary.gdoc'\n",
            "'Example Stories.gdoc'\n",
            "'explore php.gdoc'\n",
            "'final .gslides'\n",
            " final_practice.csv\n",
            "'Final project Report (1).pdf'\n",
            "'Final project Report.pdf'\n",
            "'Final Report.gdoc'\n",
            " flower.webp\n",
            " \u001b[01;34mgi_images\u001b[0m/\n",
            " graphite_ispraak.php.gdoc\n",
            " GSA_Department_Representatives_Contract.pdf\n",
            " Homework03.ipynb\n",
            " Homework05_partII_test.csv\n",
            " Homework05_partII_train.csv\n",
            " Homework3.ipynb\n",
            " homework4_report.gdoc\n",
            "'https:  docs.google.com spreadsheets u 0 ?authuser=0&usp=sheets_webPepsi and Vending Refund Request (Responses).gsheet'\n",
            "'Hyperparameter Tuning.gdoc'\n",
            " IMG_3326.HEIC\n",
            "'Installing PyAudio in MAC.gdoc'\n",
            "'Intrusion Detection in Computer Networks Using Hybrid Machine Learning Techniques.gslides'\n",
            " \u001b[01;34mIspraak\u001b[0m/\n",
            " KDDTest-21.csv\n",
            " KDDTest-21.txt\n",
            " KDDTest-.csv\n",
            " KDDTest+.txt\n",
            " KDDTrain-.csv\n",
            " KDDTrain+.txt\n",
            "'List of Characters.gdoc'\n",
            " messi.jpeg\n",
            " mnist.csv\n",
            " \u001b[01;34mNLP\u001b[0m/\n",
            " Paper.pdf\n",
            " Plotting_Correlation_HeatMap.jpg\n",
            "'PM Project 3.gslides'\n",
            "\u001b[01;34m'Procurement Requests (File responses)'\u001b[0m/\n",
            "\u001b[01;36m'Procurement Requests.gform'\u001b[0m@\n",
            " protein.csv\n",
            " PSD.gdoc\n",
            "\u001b[01;34m'RA- Jie Hou'\u001b[0m/\n",
            " readmecn2.gdoc\n",
            " readme.html\n",
            " RealState.csv\n",
            " Research_JieHou.gslides\n",
            "'Research Project_CN.gdoc'\n",
            "'Screen Recording 2022-03-10 at 2.07.50 PM.mov'\n",
            "'sentiment analysis.ipynb'\n",
            " \u001b[01;34mShareddrives\u001b[0m/\n",
            " SMSSpamCollection\n",
            "'spanish blurbs.gdoc'\n",
            " SPECT.test\n",
            " SPECT.train\n",
            "\u001b[01;34m'Student Development Bank Deposit Request Form (File responses)'\u001b[0m/\n",
            "\u001b[01;34m'Student Development Bank Deposit Request Form (File responses) (1)'\u001b[0m/\n",
            "'Student Development Bank Deposit Request Form.gform'\n",
            " \u001b[01;34mtest\u001b[0m/\n",
            " test2.tsv\n",
            " test_batch\n",
            " Test.csv\n",
            " \u001b[01;34mtesting\u001b[0m/\n",
            " test.tsv\n",
            "'The Museum Project.gdoc'\n",
            " \u001b[01;34mtrain\u001b[0m/\n",
            " train-02.zip\n",
            " train_3.csv\n",
            " Train.csv\n",
            " train_gi.csv\n",
            " train_ht.tsv\n",
            " \u001b[01;34mtraining\u001b[0m/\n",
            " train.tsv\n",
            "'train-v2 (1).tsv'\n",
            "'train-v2 (2).tsv'\n",
            "'train-v2 2.tsv'\n",
            "'train-v2 (3).tsv'\n",
            "'train-v2 (4).tsv'\n",
            "'train-v2 (5).tsv'\n",
            "'train-v2 (6).tsv'\n",
            " train-v2.tsv\n",
            " transfusion.data\n",
            "'transliteration apps.gdoc'\n",
            "'Transliteration apps.gdoc'\n",
            "'transliteration sets not working.gdoc'\n",
            "'twitter tokens.gdoc'\n",
            " Untitled0.ipynb\n",
            " Untitled1.ipynb\n",
            "'Untitled Diagram.drawio'\n",
            "'Untitled document (10).gdoc'\n",
            "'Untitled document (11).gdoc'\n",
            "'Untitled document (12).gdoc'\n",
            "'Untitled document (13).gdoc'\n",
            "'Untitled document (1).gdoc'\n",
            "'Untitled document (2).gdoc'\n",
            "'Untitled document (3).gdoc'\n",
            "'Untitled document (4).gdoc'\n",
            "'Untitled document (5).gdoc'\n",
            "'Untitled document (6).gdoc'\n",
            "'Untitled document (7).gdoc'\n",
            "'Untitled document (8).gdoc'\n",
            "'Untitled document (9).gdoc'\n",
            "'Untitled document.gdoc'\n",
            "'Untitled presentation (1).gslides'\n",
            "'Untitled presentation.gslides'\n",
            " Valid.csv\n",
            " Vijay_photo.jpg\n",
            " VijayVarshini_LakshmiNarayanan_Resume_Fall2022.pdf\n",
            " VijayVarshini_LakshmiNarayanan_Resume_Summer2022.pdf\n",
            "'VijayVarshini_LakshmiNarayanan_SIGNED Internship Agreement_05-03-2022.pdf'\n",
            "'VijayVarshini_LakshmiNarayanan_SIGNED Legal Agreement_05-03-2022.pdf'\n",
            "'VijayVarshini_LakshmiNarayanan_SIGNED Media Release_05-03-2022.pdf'\n",
            " vijayvarshini_lakshminatayanan_resume_fall_2022.pdf\n",
            " vijayvarshini_lakshminatayanan_resume_summer_2022.pdf\n",
            " VV.pdf\n",
            "'WhatsApp Image 2022-10-03 at 10.52.19 AM.jpeg'\n",
            " zoom_0.mp4\n",
            " zoom_1.mp4\n",
            "\u001b[01;34m'Zoom Video'\u001b[0m/\n"
          ]
        }
      ]
    },
    {
      "cell_type": "code",
      "source": [
        "#load the datasets\n",
        "data_ht=pd.read_csv('train_ht.tsv',sep='\\t',header=None)\n",
        "data_ht.columns = ['words','tag']\n",
        "data_ht"
      ],
      "metadata": {
        "colab": {
          "base_uri": "https://localhost:8080/",
          "height": 424
        },
        "id": "TO98RkLrpFF4",
        "outputId": "a2083ba5-a40b-413a-e0be-d18cae60e6cd"
      },
      "execution_count": 5,
      "outputs": [
        {
          "output_type": "execute_result",
          "data": {
            "text/plain": [
              "                  words                              tag\n",
              "0             konsiltan                  k-on-s-i-l-t-an\n",
              "1               depotwa                    d-e-p-o-t-w-a\n",
              "2      sosyopwofesyonèl  s-o-s-y-o-p-w-o-f-e-s-y-o-n-è-l\n",
              "3               vejetal                    v-e-j-e-t-a-l\n",
              "4             repibliye                r-e-p-i-b-l-i-y-e\n",
              "...                 ...                              ...\n",
              "12807              Remi                          R-e-m-i\n",
              "12808     diskriminatwa        d-i-s-k-r-i-m-i-n-a-t-w-a\n",
              "12809              rejè                          r-e-j-è\n",
              "12810             manzè                         m-an-z-è\n",
              "12811            trimès                      t-r-i-m-è-s\n",
              "\n",
              "[12812 rows x 2 columns]"
            ],
            "text/html": [
              "\n",
              "  <div id=\"df-5f61f5dd-0f18-4c1c-81b5-731ff2c28341\">\n",
              "    <div class=\"colab-df-container\">\n",
              "      <div>\n",
              "<style scoped>\n",
              "    .dataframe tbody tr th:only-of-type {\n",
              "        vertical-align: middle;\n",
              "    }\n",
              "\n",
              "    .dataframe tbody tr th {\n",
              "        vertical-align: top;\n",
              "    }\n",
              "\n",
              "    .dataframe thead th {\n",
              "        text-align: right;\n",
              "    }\n",
              "</style>\n",
              "<table border=\"1\" class=\"dataframe\">\n",
              "  <thead>\n",
              "    <tr style=\"text-align: right;\">\n",
              "      <th></th>\n",
              "      <th>words</th>\n",
              "      <th>tag</th>\n",
              "    </tr>\n",
              "  </thead>\n",
              "  <tbody>\n",
              "    <tr>\n",
              "      <th>0</th>\n",
              "      <td>konsiltan</td>\n",
              "      <td>k-on-s-i-l-t-an</td>\n",
              "    </tr>\n",
              "    <tr>\n",
              "      <th>1</th>\n",
              "      <td>depotwa</td>\n",
              "      <td>d-e-p-o-t-w-a</td>\n",
              "    </tr>\n",
              "    <tr>\n",
              "      <th>2</th>\n",
              "      <td>sosyopwofesyonèl</td>\n",
              "      <td>s-o-s-y-o-p-w-o-f-e-s-y-o-n-è-l</td>\n",
              "    </tr>\n",
              "    <tr>\n",
              "      <th>3</th>\n",
              "      <td>vejetal</td>\n",
              "      <td>v-e-j-e-t-a-l</td>\n",
              "    </tr>\n",
              "    <tr>\n",
              "      <th>4</th>\n",
              "      <td>repibliye</td>\n",
              "      <td>r-e-p-i-b-l-i-y-e</td>\n",
              "    </tr>\n",
              "    <tr>\n",
              "      <th>...</th>\n",
              "      <td>...</td>\n",
              "      <td>...</td>\n",
              "    </tr>\n",
              "    <tr>\n",
              "      <th>12807</th>\n",
              "      <td>Remi</td>\n",
              "      <td>R-e-m-i</td>\n",
              "    </tr>\n",
              "    <tr>\n",
              "      <th>12808</th>\n",
              "      <td>diskriminatwa</td>\n",
              "      <td>d-i-s-k-r-i-m-i-n-a-t-w-a</td>\n",
              "    </tr>\n",
              "    <tr>\n",
              "      <th>12809</th>\n",
              "      <td>rejè</td>\n",
              "      <td>r-e-j-è</td>\n",
              "    </tr>\n",
              "    <tr>\n",
              "      <th>12810</th>\n",
              "      <td>manzè</td>\n",
              "      <td>m-an-z-è</td>\n",
              "    </tr>\n",
              "    <tr>\n",
              "      <th>12811</th>\n",
              "      <td>trimès</td>\n",
              "      <td>t-r-i-m-è-s</td>\n",
              "    </tr>\n",
              "  </tbody>\n",
              "</table>\n",
              "<p>12812 rows × 2 columns</p>\n",
              "</div>\n",
              "      <button class=\"colab-df-convert\" onclick=\"convertToInteractive('df-5f61f5dd-0f18-4c1c-81b5-731ff2c28341')\"\n",
              "              title=\"Convert this dataframe to an interactive table.\"\n",
              "              style=\"display:none;\">\n",
              "        \n",
              "  <svg xmlns=\"http://www.w3.org/2000/svg\" height=\"24px\"viewBox=\"0 0 24 24\"\n",
              "       width=\"24px\">\n",
              "    <path d=\"M0 0h24v24H0V0z\" fill=\"none\"/>\n",
              "    <path d=\"M18.56 5.44l.94 2.06.94-2.06 2.06-.94-2.06-.94-.94-2.06-.94 2.06-2.06.94zm-11 1L8.5 8.5l.94-2.06 2.06-.94-2.06-.94L8.5 2.5l-.94 2.06-2.06.94zm10 10l.94 2.06.94-2.06 2.06-.94-2.06-.94-.94-2.06-.94 2.06-2.06.94z\"/><path d=\"M17.41 7.96l-1.37-1.37c-.4-.4-.92-.59-1.43-.59-.52 0-1.04.2-1.43.59L10.3 9.45l-7.72 7.72c-.78.78-.78 2.05 0 2.83L4 21.41c.39.39.9.59 1.41.59.51 0 1.02-.2 1.41-.59l7.78-7.78 2.81-2.81c.8-.78.8-2.07 0-2.86zM5.41 20L4 18.59l7.72-7.72 1.47 1.35L5.41 20z\"/>\n",
              "  </svg>\n",
              "      </button>\n",
              "      \n",
              "  <style>\n",
              "    .colab-df-container {\n",
              "      display:flex;\n",
              "      flex-wrap:wrap;\n",
              "      gap: 12px;\n",
              "    }\n",
              "\n",
              "    .colab-df-convert {\n",
              "      background-color: #E8F0FE;\n",
              "      border: none;\n",
              "      border-radius: 50%;\n",
              "      cursor: pointer;\n",
              "      display: none;\n",
              "      fill: #1967D2;\n",
              "      height: 32px;\n",
              "      padding: 0 0 0 0;\n",
              "      width: 32px;\n",
              "    }\n",
              "\n",
              "    .colab-df-convert:hover {\n",
              "      background-color: #E2EBFA;\n",
              "      box-shadow: 0px 1px 2px rgba(60, 64, 67, 0.3), 0px 1px 3px 1px rgba(60, 64, 67, 0.15);\n",
              "      fill: #174EA6;\n",
              "    }\n",
              "\n",
              "    [theme=dark] .colab-df-convert {\n",
              "      background-color: #3B4455;\n",
              "      fill: #D2E3FC;\n",
              "    }\n",
              "\n",
              "    [theme=dark] .colab-df-convert:hover {\n",
              "      background-color: #434B5C;\n",
              "      box-shadow: 0px 1px 3px 1px rgba(0, 0, 0, 0.15);\n",
              "      filter: drop-shadow(0px 1px 2px rgba(0, 0, 0, 0.3));\n",
              "      fill: #FFFFFF;\n",
              "    }\n",
              "  </style>\n",
              "\n",
              "      <script>\n",
              "        const buttonEl =\n",
              "          document.querySelector('#df-5f61f5dd-0f18-4c1c-81b5-731ff2c28341 button.colab-df-convert');\n",
              "        buttonEl.style.display =\n",
              "          google.colab.kernel.accessAllowed ? 'block' : 'none';\n",
              "\n",
              "        async function convertToInteractive(key) {\n",
              "          const element = document.querySelector('#df-5f61f5dd-0f18-4c1c-81b5-731ff2c28341');\n",
              "          const dataTable =\n",
              "            await google.colab.kernel.invokeFunction('convertToInteractive',\n",
              "                                                     [key], {});\n",
              "          if (!dataTable) return;\n",
              "\n",
              "          const docLinkHtml = 'Like what you see? Visit the ' +\n",
              "            '<a target=\"_blank\" href=https://colab.research.google.com/notebooks/data_table.ipynb>data table notebook</a>'\n",
              "            + ' to learn more about interactive tables.';\n",
              "          element.innerHTML = '';\n",
              "          dataTable['output_type'] = 'display_data';\n",
              "          await google.colab.output.renderOutput(dataTable, element);\n",
              "          const docLink = document.createElement('div');\n",
              "          docLink.innerHTML = docLinkHtml;\n",
              "          element.appendChild(docLink);\n",
              "        }\n",
              "      </script>\n",
              "    </div>\n",
              "  </div>\n",
              "  "
            ]
          },
          "metadata": {},
          "execution_count": 5
        }
      ]
    },
    {
      "cell_type": "code",
      "source": [
        "#convert to lowercase\n",
        "data_ht['tag'] = data_ht['tag'].str.lower()\n",
        "data_ht"
      ],
      "metadata": {
        "colab": {
          "base_uri": "https://localhost:8080/",
          "height": 424
        },
        "id": "cLdUSQuvpH1D",
        "outputId": "744a8338-6e96-4319-d339-224e0bfa0d36"
      },
      "execution_count": 6,
      "outputs": [
        {
          "output_type": "execute_result",
          "data": {
            "text/plain": [
              "                  words                              tag\n",
              "0             konsiltan                  k-on-s-i-l-t-an\n",
              "1               depotwa                    d-e-p-o-t-w-a\n",
              "2      sosyopwofesyonèl  s-o-s-y-o-p-w-o-f-e-s-y-o-n-è-l\n",
              "3               vejetal                    v-e-j-e-t-a-l\n",
              "4             repibliye                r-e-p-i-b-l-i-y-e\n",
              "...                 ...                              ...\n",
              "12807              Remi                          r-e-m-i\n",
              "12808     diskriminatwa        d-i-s-k-r-i-m-i-n-a-t-w-a\n",
              "12809              rejè                          r-e-j-è\n",
              "12810             manzè                         m-an-z-è\n",
              "12811            trimès                      t-r-i-m-è-s\n",
              "\n",
              "[12812 rows x 2 columns]"
            ],
            "text/html": [
              "\n",
              "  <div id=\"df-82234f49-54c8-491c-bc0a-1bceb9905253\">\n",
              "    <div class=\"colab-df-container\">\n",
              "      <div>\n",
              "<style scoped>\n",
              "    .dataframe tbody tr th:only-of-type {\n",
              "        vertical-align: middle;\n",
              "    }\n",
              "\n",
              "    .dataframe tbody tr th {\n",
              "        vertical-align: top;\n",
              "    }\n",
              "\n",
              "    .dataframe thead th {\n",
              "        text-align: right;\n",
              "    }\n",
              "</style>\n",
              "<table border=\"1\" class=\"dataframe\">\n",
              "  <thead>\n",
              "    <tr style=\"text-align: right;\">\n",
              "      <th></th>\n",
              "      <th>words</th>\n",
              "      <th>tag</th>\n",
              "    </tr>\n",
              "  </thead>\n",
              "  <tbody>\n",
              "    <tr>\n",
              "      <th>0</th>\n",
              "      <td>konsiltan</td>\n",
              "      <td>k-on-s-i-l-t-an</td>\n",
              "    </tr>\n",
              "    <tr>\n",
              "      <th>1</th>\n",
              "      <td>depotwa</td>\n",
              "      <td>d-e-p-o-t-w-a</td>\n",
              "    </tr>\n",
              "    <tr>\n",
              "      <th>2</th>\n",
              "      <td>sosyopwofesyonèl</td>\n",
              "      <td>s-o-s-y-o-p-w-o-f-e-s-y-o-n-è-l</td>\n",
              "    </tr>\n",
              "    <tr>\n",
              "      <th>3</th>\n",
              "      <td>vejetal</td>\n",
              "      <td>v-e-j-e-t-a-l</td>\n",
              "    </tr>\n",
              "    <tr>\n",
              "      <th>4</th>\n",
              "      <td>repibliye</td>\n",
              "      <td>r-e-p-i-b-l-i-y-e</td>\n",
              "    </tr>\n",
              "    <tr>\n",
              "      <th>...</th>\n",
              "      <td>...</td>\n",
              "      <td>...</td>\n",
              "    </tr>\n",
              "    <tr>\n",
              "      <th>12807</th>\n",
              "      <td>Remi</td>\n",
              "      <td>r-e-m-i</td>\n",
              "    </tr>\n",
              "    <tr>\n",
              "      <th>12808</th>\n",
              "      <td>diskriminatwa</td>\n",
              "      <td>d-i-s-k-r-i-m-i-n-a-t-w-a</td>\n",
              "    </tr>\n",
              "    <tr>\n",
              "      <th>12809</th>\n",
              "      <td>rejè</td>\n",
              "      <td>r-e-j-è</td>\n",
              "    </tr>\n",
              "    <tr>\n",
              "      <th>12810</th>\n",
              "      <td>manzè</td>\n",
              "      <td>m-an-z-è</td>\n",
              "    </tr>\n",
              "    <tr>\n",
              "      <th>12811</th>\n",
              "      <td>trimès</td>\n",
              "      <td>t-r-i-m-è-s</td>\n",
              "    </tr>\n",
              "  </tbody>\n",
              "</table>\n",
              "<p>12812 rows × 2 columns</p>\n",
              "</div>\n",
              "      <button class=\"colab-df-convert\" onclick=\"convertToInteractive('df-82234f49-54c8-491c-bc0a-1bceb9905253')\"\n",
              "              title=\"Convert this dataframe to an interactive table.\"\n",
              "              style=\"display:none;\">\n",
              "        \n",
              "  <svg xmlns=\"http://www.w3.org/2000/svg\" height=\"24px\"viewBox=\"0 0 24 24\"\n",
              "       width=\"24px\">\n",
              "    <path d=\"M0 0h24v24H0V0z\" fill=\"none\"/>\n",
              "    <path d=\"M18.56 5.44l.94 2.06.94-2.06 2.06-.94-2.06-.94-.94-2.06-.94 2.06-2.06.94zm-11 1L8.5 8.5l.94-2.06 2.06-.94-2.06-.94L8.5 2.5l-.94 2.06-2.06.94zm10 10l.94 2.06.94-2.06 2.06-.94-2.06-.94-.94-2.06-.94 2.06-2.06.94z\"/><path d=\"M17.41 7.96l-1.37-1.37c-.4-.4-.92-.59-1.43-.59-.52 0-1.04.2-1.43.59L10.3 9.45l-7.72 7.72c-.78.78-.78 2.05 0 2.83L4 21.41c.39.39.9.59 1.41.59.51 0 1.02-.2 1.41-.59l7.78-7.78 2.81-2.81c.8-.78.8-2.07 0-2.86zM5.41 20L4 18.59l7.72-7.72 1.47 1.35L5.41 20z\"/>\n",
              "  </svg>\n",
              "      </button>\n",
              "      \n",
              "  <style>\n",
              "    .colab-df-container {\n",
              "      display:flex;\n",
              "      flex-wrap:wrap;\n",
              "      gap: 12px;\n",
              "    }\n",
              "\n",
              "    .colab-df-convert {\n",
              "      background-color: #E8F0FE;\n",
              "      border: none;\n",
              "      border-radius: 50%;\n",
              "      cursor: pointer;\n",
              "      display: none;\n",
              "      fill: #1967D2;\n",
              "      height: 32px;\n",
              "      padding: 0 0 0 0;\n",
              "      width: 32px;\n",
              "    }\n",
              "\n",
              "    .colab-df-convert:hover {\n",
              "      background-color: #E2EBFA;\n",
              "      box-shadow: 0px 1px 2px rgba(60, 64, 67, 0.3), 0px 1px 3px 1px rgba(60, 64, 67, 0.15);\n",
              "      fill: #174EA6;\n",
              "    }\n",
              "\n",
              "    [theme=dark] .colab-df-convert {\n",
              "      background-color: #3B4455;\n",
              "      fill: #D2E3FC;\n",
              "    }\n",
              "\n",
              "    [theme=dark] .colab-df-convert:hover {\n",
              "      background-color: #434B5C;\n",
              "      box-shadow: 0px 1px 3px 1px rgba(0, 0, 0, 0.15);\n",
              "      filter: drop-shadow(0px 1px 2px rgba(0, 0, 0, 0.3));\n",
              "      fill: #FFFFFF;\n",
              "    }\n",
              "  </style>\n",
              "\n",
              "      <script>\n",
              "        const buttonEl =\n",
              "          document.querySelector('#df-82234f49-54c8-491c-bc0a-1bceb9905253 button.colab-df-convert');\n",
              "        buttonEl.style.display =\n",
              "          google.colab.kernel.accessAllowed ? 'block' : 'none';\n",
              "\n",
              "        async function convertToInteractive(key) {\n",
              "          const element = document.querySelector('#df-82234f49-54c8-491c-bc0a-1bceb9905253');\n",
              "          const dataTable =\n",
              "            await google.colab.kernel.invokeFunction('convertToInteractive',\n",
              "                                                     [key], {});\n",
              "          if (!dataTable) return;\n",
              "\n",
              "          const docLinkHtml = 'Like what you see? Visit the ' +\n",
              "            '<a target=\"_blank\" href=https://colab.research.google.com/notebooks/data_table.ipynb>data table notebook</a>'\n",
              "            + ' to learn more about interactive tables.';\n",
              "          element.innerHTML = '';\n",
              "          dataTable['output_type'] = 'display_data';\n",
              "          await google.colab.output.renderOutput(dataTable, element);\n",
              "          const docLink = document.createElement('div');\n",
              "          docLink.innerHTML = docLinkHtml;\n",
              "          element.appendChild(docLink);\n",
              "        }\n",
              "      </script>\n",
              "    </div>\n",
              "  </div>\n",
              "  "
            ]
          },
          "metadata": {},
          "execution_count": 6
        }
      ]
    },
    {
      "cell_type": "code",
      "source": [
        "word_list=data_ht['words'].to_list()\n",
        "tag_list=data_ht['tag'].to_list()"
      ],
      "metadata": {
        "id": "UsTcxtv-WM_y"
      },
      "execution_count": 7,
      "outputs": []
    },
    {
      "cell_type": "code",
      "source": [
        "tag_list[505].split('-')"
      ],
      "metadata": {
        "colab": {
          "base_uri": "https://localhost:8080/"
        },
        "id": "Du1R_Q_OpS2m",
        "outputId": "1a2f9a8f-226f-429d-bda7-592a73c11120"
      },
      "execution_count": 8,
      "outputs": [
        {
          "output_type": "execute_result",
          "data": {
            "text/plain": [
              "['k', 'a', 't', 'ch', 'ou', 'b', 'ou', 'm', 'b', 'e']"
            ]
          },
          "metadata": {},
          "execution_count": 8
        }
      ]
    },
    {
      "cell_type": "code",
      "source": [
        "a=[]\n",
        "for i in tag_list:\n",
        "  l1=i.split('-')\n",
        "  l2=[]\n",
        "  for j in l1:\n",
        "    if j=='on' or j=='an' or j=='ou' or j=='ch' or j=='en' or j=='ng' or j=='on' or j=='ui' or j=='oun':\n",
        "      l2.append('B')\n",
        "      l2.append('I')\n",
        "    else:\n",
        "      l2.append('B')\n",
        "  a.append(l2)\n",
        "a[505]"
      ],
      "metadata": {
        "colab": {
          "base_uri": "https://localhost:8080/"
        },
        "id": "vIISyRfR5bAV",
        "outputId": "98422929-323e-4cfd-8503-1c98d23ab92b"
      },
      "execution_count": 9,
      "outputs": [
        {
          "output_type": "execute_result",
          "data": {
            "text/plain": [
              "['B', 'B', 'B', 'B', 'I', 'B', 'I', 'B', 'B', 'I', 'B', 'B', 'B']"
            ]
          },
          "metadata": {},
          "execution_count": 9
        }
      ]
    },
    {
      "cell_type": "code",
      "source": [
        "type(a)"
      ],
      "metadata": {
        "colab": {
          "base_uri": "https://localhost:8080/"
        },
        "id": "aT8hTc4VEVNM",
        "outputId": "0fd29fc7-a9d9-4fbe-ba40-3f67d6bb0ec9"
      },
      "execution_count": 10,
      "outputs": [
        {
          "output_type": "execute_result",
          "data": {
            "text/plain": [
              "list"
            ]
          },
          "metadata": {},
          "execution_count": 10
        }
      ]
    },
    {
      "cell_type": "code",
      "source": [
        "data_ht['pos']=a\n",
        "data_ht"
      ],
      "metadata": {
        "colab": {
          "base_uri": "https://localhost:8080/",
          "height": 424
        },
        "id": "hjzjtPZz6-LO",
        "outputId": "9f97a356-5337-4efb-82c4-1456ccd06e19"
      },
      "execution_count": 11,
      "outputs": [
        {
          "output_type": "execute_result",
          "data": {
            "text/plain": [
              "                  words                              tag  \\\n",
              "0             konsiltan                  k-on-s-i-l-t-an   \n",
              "1               depotwa                    d-e-p-o-t-w-a   \n",
              "2      sosyopwofesyonèl  s-o-s-y-o-p-w-o-f-e-s-y-o-n-è-l   \n",
              "3               vejetal                    v-e-j-e-t-a-l   \n",
              "4             repibliye                r-e-p-i-b-l-i-y-e   \n",
              "...                 ...                              ...   \n",
              "12807              Remi                          r-e-m-i   \n",
              "12808     diskriminatwa        d-i-s-k-r-i-m-i-n-a-t-w-a   \n",
              "12809              rejè                          r-e-j-è   \n",
              "12810             manzè                         m-an-z-è   \n",
              "12811            trimès                      t-r-i-m-è-s   \n",
              "\n",
              "                                                    pos  \n",
              "0                           [B, B, I, B, B, B, B, B, I]  \n",
              "1                                 [B, B, B, B, B, B, B]  \n",
              "2      [B, B, B, B, B, B, B, B, B, B, B, B, B, B, B, B]  \n",
              "3                                 [B, B, B, B, B, B, B]  \n",
              "4                           [B, B, B, B, B, B, B, B, B]  \n",
              "...                                                 ...  \n",
              "12807                                      [B, B, B, B]  \n",
              "12808           [B, B, B, B, B, B, B, B, B, B, B, B, B]  \n",
              "12809                                      [B, B, B, B]  \n",
              "12810                                   [B, B, I, B, B]  \n",
              "12811                                [B, B, B, B, B, B]  \n",
              "\n",
              "[12812 rows x 3 columns]"
            ],
            "text/html": [
              "\n",
              "  <div id=\"df-f55db594-cf6a-4efa-bd0a-20ed54fdf461\">\n",
              "    <div class=\"colab-df-container\">\n",
              "      <div>\n",
              "<style scoped>\n",
              "    .dataframe tbody tr th:only-of-type {\n",
              "        vertical-align: middle;\n",
              "    }\n",
              "\n",
              "    .dataframe tbody tr th {\n",
              "        vertical-align: top;\n",
              "    }\n",
              "\n",
              "    .dataframe thead th {\n",
              "        text-align: right;\n",
              "    }\n",
              "</style>\n",
              "<table border=\"1\" class=\"dataframe\">\n",
              "  <thead>\n",
              "    <tr style=\"text-align: right;\">\n",
              "      <th></th>\n",
              "      <th>words</th>\n",
              "      <th>tag</th>\n",
              "      <th>pos</th>\n",
              "    </tr>\n",
              "  </thead>\n",
              "  <tbody>\n",
              "    <tr>\n",
              "      <th>0</th>\n",
              "      <td>konsiltan</td>\n",
              "      <td>k-on-s-i-l-t-an</td>\n",
              "      <td>[B, B, I, B, B, B, B, B, I]</td>\n",
              "    </tr>\n",
              "    <tr>\n",
              "      <th>1</th>\n",
              "      <td>depotwa</td>\n",
              "      <td>d-e-p-o-t-w-a</td>\n",
              "      <td>[B, B, B, B, B, B, B]</td>\n",
              "    </tr>\n",
              "    <tr>\n",
              "      <th>2</th>\n",
              "      <td>sosyopwofesyonèl</td>\n",
              "      <td>s-o-s-y-o-p-w-o-f-e-s-y-o-n-è-l</td>\n",
              "      <td>[B, B, B, B, B, B, B, B, B, B, B, B, B, B, B, B]</td>\n",
              "    </tr>\n",
              "    <tr>\n",
              "      <th>3</th>\n",
              "      <td>vejetal</td>\n",
              "      <td>v-e-j-e-t-a-l</td>\n",
              "      <td>[B, B, B, B, B, B, B]</td>\n",
              "    </tr>\n",
              "    <tr>\n",
              "      <th>4</th>\n",
              "      <td>repibliye</td>\n",
              "      <td>r-e-p-i-b-l-i-y-e</td>\n",
              "      <td>[B, B, B, B, B, B, B, B, B]</td>\n",
              "    </tr>\n",
              "    <tr>\n",
              "      <th>...</th>\n",
              "      <td>...</td>\n",
              "      <td>...</td>\n",
              "      <td>...</td>\n",
              "    </tr>\n",
              "    <tr>\n",
              "      <th>12807</th>\n",
              "      <td>Remi</td>\n",
              "      <td>r-e-m-i</td>\n",
              "      <td>[B, B, B, B]</td>\n",
              "    </tr>\n",
              "    <tr>\n",
              "      <th>12808</th>\n",
              "      <td>diskriminatwa</td>\n",
              "      <td>d-i-s-k-r-i-m-i-n-a-t-w-a</td>\n",
              "      <td>[B, B, B, B, B, B, B, B, B, B, B, B, B]</td>\n",
              "    </tr>\n",
              "    <tr>\n",
              "      <th>12809</th>\n",
              "      <td>rejè</td>\n",
              "      <td>r-e-j-è</td>\n",
              "      <td>[B, B, B, B]</td>\n",
              "    </tr>\n",
              "    <tr>\n",
              "      <th>12810</th>\n",
              "      <td>manzè</td>\n",
              "      <td>m-an-z-è</td>\n",
              "      <td>[B, B, I, B, B]</td>\n",
              "    </tr>\n",
              "    <tr>\n",
              "      <th>12811</th>\n",
              "      <td>trimès</td>\n",
              "      <td>t-r-i-m-è-s</td>\n",
              "      <td>[B, B, B, B, B, B]</td>\n",
              "    </tr>\n",
              "  </tbody>\n",
              "</table>\n",
              "<p>12812 rows × 3 columns</p>\n",
              "</div>\n",
              "      <button class=\"colab-df-convert\" onclick=\"convertToInteractive('df-f55db594-cf6a-4efa-bd0a-20ed54fdf461')\"\n",
              "              title=\"Convert this dataframe to an interactive table.\"\n",
              "              style=\"display:none;\">\n",
              "        \n",
              "  <svg xmlns=\"http://www.w3.org/2000/svg\" height=\"24px\"viewBox=\"0 0 24 24\"\n",
              "       width=\"24px\">\n",
              "    <path d=\"M0 0h24v24H0V0z\" fill=\"none\"/>\n",
              "    <path d=\"M18.56 5.44l.94 2.06.94-2.06 2.06-.94-2.06-.94-.94-2.06-.94 2.06-2.06.94zm-11 1L8.5 8.5l.94-2.06 2.06-.94-2.06-.94L8.5 2.5l-.94 2.06-2.06.94zm10 10l.94 2.06.94-2.06 2.06-.94-2.06-.94-.94-2.06-.94 2.06-2.06.94z\"/><path d=\"M17.41 7.96l-1.37-1.37c-.4-.4-.92-.59-1.43-.59-.52 0-1.04.2-1.43.59L10.3 9.45l-7.72 7.72c-.78.78-.78 2.05 0 2.83L4 21.41c.39.39.9.59 1.41.59.51 0 1.02-.2 1.41-.59l7.78-7.78 2.81-2.81c.8-.78.8-2.07 0-2.86zM5.41 20L4 18.59l7.72-7.72 1.47 1.35L5.41 20z\"/>\n",
              "  </svg>\n",
              "      </button>\n",
              "      \n",
              "  <style>\n",
              "    .colab-df-container {\n",
              "      display:flex;\n",
              "      flex-wrap:wrap;\n",
              "      gap: 12px;\n",
              "    }\n",
              "\n",
              "    .colab-df-convert {\n",
              "      background-color: #E8F0FE;\n",
              "      border: none;\n",
              "      border-radius: 50%;\n",
              "      cursor: pointer;\n",
              "      display: none;\n",
              "      fill: #1967D2;\n",
              "      height: 32px;\n",
              "      padding: 0 0 0 0;\n",
              "      width: 32px;\n",
              "    }\n",
              "\n",
              "    .colab-df-convert:hover {\n",
              "      background-color: #E2EBFA;\n",
              "      box-shadow: 0px 1px 2px rgba(60, 64, 67, 0.3), 0px 1px 3px 1px rgba(60, 64, 67, 0.15);\n",
              "      fill: #174EA6;\n",
              "    }\n",
              "\n",
              "    [theme=dark] .colab-df-convert {\n",
              "      background-color: #3B4455;\n",
              "      fill: #D2E3FC;\n",
              "    }\n",
              "\n",
              "    [theme=dark] .colab-df-convert:hover {\n",
              "      background-color: #434B5C;\n",
              "      box-shadow: 0px 1px 3px 1px rgba(0, 0, 0, 0.15);\n",
              "      filter: drop-shadow(0px 1px 2px rgba(0, 0, 0, 0.3));\n",
              "      fill: #FFFFFF;\n",
              "    }\n",
              "  </style>\n",
              "\n",
              "      <script>\n",
              "        const buttonEl =\n",
              "          document.querySelector('#df-f55db594-cf6a-4efa-bd0a-20ed54fdf461 button.colab-df-convert');\n",
              "        buttonEl.style.display =\n",
              "          google.colab.kernel.accessAllowed ? 'block' : 'none';\n",
              "\n",
              "        async function convertToInteractive(key) {\n",
              "          const element = document.querySelector('#df-f55db594-cf6a-4efa-bd0a-20ed54fdf461');\n",
              "          const dataTable =\n",
              "            await google.colab.kernel.invokeFunction('convertToInteractive',\n",
              "                                                     [key], {});\n",
              "          if (!dataTable) return;\n",
              "\n",
              "          const docLinkHtml = 'Like what you see? Visit the ' +\n",
              "            '<a target=\"_blank\" href=https://colab.research.google.com/notebooks/data_table.ipynb>data table notebook</a>'\n",
              "            + ' to learn more about interactive tables.';\n",
              "          element.innerHTML = '';\n",
              "          dataTable['output_type'] = 'display_data';\n",
              "          await google.colab.output.renderOutput(dataTable, element);\n",
              "          const docLink = document.createElement('div');\n",
              "          docLink.innerHTML = docLinkHtml;\n",
              "          element.appendChild(docLink);\n",
              "        }\n",
              "      </script>\n",
              "    </div>\n",
              "  </div>\n",
              "  "
            ]
          },
          "metadata": {},
          "execution_count": 11
        }
      ]
    },
    {
      "cell_type": "code",
      "source": [
        "word_list[0]"
      ],
      "metadata": {
        "colab": {
          "base_uri": "https://localhost:8080/",
          "height": 35
        },
        "id": "aRNEBfnMKpgc",
        "outputId": "d13a4fec-00d4-4371-b2ed-6910122dfb6b"
      },
      "execution_count": 12,
      "outputs": [
        {
          "output_type": "execute_result",
          "data": {
            "text/plain": [
              "'konsiltan'"
            ],
            "application/vnd.google.colaboratory.intrinsic+json": {
              "type": "string"
            }
          },
          "metadata": {},
          "execution_count": 12
        }
      ]
    },
    {
      "cell_type": "code",
      "source": [
        "data_ht = data_ht.dropna()"
      ],
      "metadata": {
        "id": "iGIq-Bt_E51i"
      },
      "execution_count": 13,
      "outputs": []
    },
    {
      "cell_type": "code",
      "source": [
        "X=data_ht['words'].to_list()\n",
        "Y=data_ht['pos'].to_list()"
      ],
      "metadata": {
        "id": "J6OYbs6hQaCi"
      },
      "execution_count": 14,
      "outputs": []
    },
    {
      "cell_type": "code",
      "source": [
        "vocab = set([word.lower() for sentence in X for word in sentence])"
      ],
      "metadata": {
        "id": "kIWcfh6RW5Bd"
      },
      "execution_count": 15,
      "outputs": []
    },
    {
      "cell_type": "code",
      "source": [
        "tags = set([word.lower() for sentence in Y for word in sentence])"
      ],
      "metadata": {
        "id": "gTs4hjOrh2R3"
      },
      "execution_count": 16,
      "outputs": []
    },
    {
      "cell_type": "code",
      "source": [
        "print(\"Total number of tagged sentences: {}\".format(len(X)))\n",
        "print(\"Vocabulary size: {}\".format(len(vocab)))\n",
        "print(\"Tag size: {}\".format(len(tags)))"
      ],
      "metadata": {
        "colab": {
          "base_uri": "https://localhost:8080/"
        },
        "id": "YXXnAsg-a0Ai",
        "outputId": "db9a08a5-0909-468a-db27-0d0607b42976"
      },
      "execution_count": 17,
      "outputs": [
        {
          "output_type": "stream",
          "name": "stdout",
          "text": [
            "Total number of tagged sentences: 12811\n",
            "Vocabulary size: 27\n",
            "Tag size: 2\n"
          ]
        }
      ]
    },
    {
      "cell_type": "code",
      "source": [
        "print(\"Length of input word: {}\".format(len(X[0])))\n",
        "print(\"Length of output tag: {}\".format(len(Y[0])))"
      ],
      "metadata": {
        "colab": {
          "base_uri": "https://localhost:8080/"
        },
        "id": "Vmd-xSDlbFKF",
        "outputId": "311d34a5-9937-4739-f64f-16b5d4161723"
      },
      "execution_count": 18,
      "outputs": [
        {
          "output_type": "stream",
          "name": "stdout",
          "text": [
            "Length of input word: 9\n",
            "Length of output tag: 9\n"
          ]
        }
      ]
    },
    {
      "cell_type": "code",
      "source": [
        "from keras.preprocessing.text import Tokenizer\n",
        "tokenize = Tokenizer()                     \n",
        "tokenize.fit_on_texts((X))                \n",
        "X_encode_data = tokenize.texts_to_sequences((X))"
      ],
      "metadata": {
        "id": "OD1rspiAObXs"
      },
      "execution_count": 19,
      "outputs": []
    },
    {
      "cell_type": "code",
      "source": [
        "len(X_encode_data)"
      ],
      "metadata": {
        "colab": {
          "base_uri": "https://localhost:8080/"
        },
        "id": "OUdmEN2FQ8Um",
        "outputId": "6e876877-893e-4e5e-ab33-8a2a4ddb19be"
      },
      "execution_count": 20,
      "outputs": [
        {
          "output_type": "execute_result",
          "data": {
            "text/plain": [
              "12811"
            ]
          },
          "metadata": {},
          "execution_count": 20
        }
      ]
    },
    {
      "cell_type": "code",
      "source": [
        "tokenize = Tokenizer()                     \n",
        "tokenize.fit_on_texts((Y))                  \n",
        "Y_encode_data = tokenize.texts_to_sequences((Y))"
      ],
      "metadata": {
        "id": "gdDVv1anOs6L"
      },
      "execution_count": 21,
      "outputs": []
    },
    {
      "cell_type": "code",
      "source": [
        "len(Y_encode_data)"
      ],
      "metadata": {
        "colab": {
          "base_uri": "https://localhost:8080/"
        },
        "id": "-9Wu0FlKRFEO",
        "outputId": "71cd1b30-bc59-4570-fd2e-92a64542bb3d"
      },
      "execution_count": 22,
      "outputs": [
        {
          "output_type": "execute_result",
          "data": {
            "text/plain": [
              "12811"
            ]
          },
          "metadata": {},
          "execution_count": 22
        }
      ]
    },
    {
      "cell_type": "code",
      "source": [
        "# check length of longest sentence\n",
        "max_word = [len(seq) for seq in a]\n",
        "print(\"Length of longest Word: {}\".format(max(max_word)))"
      ],
      "metadata": {
        "colab": {
          "base_uri": "https://localhost:8080/"
        },
        "id": "dN89DDrEOUB4",
        "outputId": "03a78a5b-7536-4552-b852-30c816614201"
      },
      "execution_count": 23,
      "outputs": [
        {
          "output_type": "stream",
          "name": "stdout",
          "text": [
            "Length of longest Word: 18\n"
          ]
        }
      ]
    },
    {
      "cell_type": "code",
      "source": [
        "# look at first encoded data point\n",
        "\n",
        "print(\"Original Text\", \"\\n\")\n",
        "print('X: ', X[20], '\\n')\n",
        "print('Y: ', Y[20], '\\n')\n",
        "print(\"Encoded Text\", \"\\n\")\n",
        "print('X: ', X_encode_data[20], '\\n')\n",
        "print('Y: ', Y_encode_data[20], '\\n')"
      ],
      "metadata": {
        "colab": {
          "base_uri": "https://localhost:8080/"
        },
        "id": "XMw3z3POFZnx",
        "outputId": "c850ab3e-b6bd-444e-fc46-00687170dc25"
      },
      "execution_count": 24,
      "outputs": [
        {
          "output_type": "stream",
          "name": "stdout",
          "text": [
            "Original Text \n",
            "\n",
            "X:  tizonnen \n",
            "\n",
            "Y:  ['B', 'B', 'B', 'B', 'I', 'B', 'B', 'I'] \n",
            "\n",
            "Encoded Text \n",
            "\n",
            "X:  [83] \n",
            "\n",
            "Y:  [1, 1, 1, 1, 2, 1, 1, 2] \n",
            "\n"
          ]
        }
      ]
    },
    {
      "cell_type": "code",
      "source": [
        "# make sure that each sequence of input and output is same length\n",
        "\n",
        "different_length = [1 if len(input) != len(output) else 0 for input, output in zip(X_encode_data, Y_encode_data)]\n",
        "print(\"{} sentences have disparate input-output lengths.\".format(sum(different_length)))"
      ],
      "metadata": {
        "colab": {
          "base_uri": "https://localhost:8080/"
        },
        "id": "PPiekRjjboxu",
        "outputId": "969b9345-b0c2-47f7-c248-bc5ffb738db3"
      },
      "execution_count": 25,
      "outputs": [
        {
          "output_type": "stream",
          "name": "stdout",
          "text": [
            "12811 sentences have disparate input-output lengths.\n"
          ]
        }
      ]
    },
    {
      "cell_type": "code",
      "source": [
        "from keras.preprocessing.sequence import pad_sequences\n",
        "MAX_SEQ_LENGTH = 100  \n",
        "\n",
        "X_pad = pad_sequences(X_encode_data, maxlen=MAX_SEQ_LENGTH, padding=\"pre\", truncating=\"post\")\n",
        "Y_pad = pad_sequences(Y_encode_data, maxlen=MAX_SEQ_LENGTH, padding=\"pre\", truncating=\"post\")"
      ],
      "metadata": {
        "id": "np3AlWasHndv"
      },
      "execution_count": 26,
      "outputs": []
    },
    {
      "cell_type": "code",
      "source": [
        "X_pad[0]"
      ],
      "metadata": {
        "colab": {
          "base_uri": "https://localhost:8080/"
        },
        "id": "UfbLPbgdoXyf",
        "outputId": "29d3145e-0a09-4f29-851e-e779101c024b"
      },
      "execution_count": 37,
      "outputs": [
        {
          "output_type": "execute_result",
          "data": {
            "text/plain": [
              "array([ 0,  0,  0,  0,  0,  0,  0,  0,  0,  0,  0,  0,  0,  0,  0,  0,  0,\n",
              "        0,  0,  0,  0,  0,  0,  0,  0,  0,  0,  0,  0,  0,  0,  0,  0,  0,\n",
              "        0,  0,  0,  0,  0,  0,  0,  0,  0,  0,  0,  0,  0,  0,  0,  0,  0,\n",
              "        0,  0,  0,  0,  0,  0,  0,  0,  0,  0,  0,  0,  0,  0,  0,  0,  0,\n",
              "        0,  0,  0,  0,  0,  0,  0,  0,  0,  0,  0,  0,  0,  0,  0,  0,  0,\n",
              "        0,  0,  0,  0,  0,  0,  0,  0,  0,  0,  0,  0,  0,  0, 63],\n",
              "      dtype=int32)"
            ]
          },
          "metadata": {},
          "execution_count": 37
        }
      ]
    },
    {
      "cell_type": "code",
      "source": [
        "X_pad.shape"
      ],
      "metadata": {
        "colab": {
          "base_uri": "https://localhost:8080/"
        },
        "id": "spTYFyA_Pv2S",
        "outputId": "e03d1618-3a59-4850-ad73-f414ae72383b"
      },
      "execution_count": 27,
      "outputs": [
        {
          "output_type": "execute_result",
          "data": {
            "text/plain": [
              "(12811, 100)"
            ]
          },
          "metadata": {},
          "execution_count": 27
        }
      ]
    },
    {
      "cell_type": "code",
      "source": [
        "Y_pad.shape"
      ],
      "metadata": {
        "colab": {
          "base_uri": "https://localhost:8080/"
        },
        "id": "Ry_CA73vcSd9",
        "outputId": "72c78cd5-ff61-4b98-c209-975316610ad3"
      },
      "execution_count": 28,
      "outputs": [
        {
          "output_type": "execute_result",
          "data": {
            "text/plain": [
              "(12811, 100)"
            ]
          },
          "metadata": {},
          "execution_count": 28
        }
      ]
    },
    {
      "cell_type": "code",
      "source": [
        "X_pad"
      ],
      "metadata": {
        "colab": {
          "base_uri": "https://localhost:8080/"
        },
        "id": "k_uoZdtTfGfQ",
        "outputId": "a82df0d2-fccf-4086-b995-2d860f7fbda5"
      },
      "execution_count": 29,
      "outputs": [
        {
          "output_type": "execute_result",
          "data": {
            "text/plain": [
              "array([[    0,     0,     0, ...,     0,     0,    63],\n",
              "       [    0,     0,     0, ...,     0,     0,    64],\n",
              "       [    0,     0,     0, ...,     0,     0,    65],\n",
              "       ...,\n",
              "       [    0,     0,     0, ...,     0,     0, 12747],\n",
              "       [    0,     0,     0, ...,     0,     0, 12748],\n",
              "       [    0,     0,     0, ...,     0,     0, 12749]], dtype=int32)"
            ]
          },
          "metadata": {},
          "execution_count": 29
        }
      ]
    },
    {
      "cell_type": "code",
      "source": [
        "word2vec = {w: i for i, w in enumerate(vocab)}"
      ],
      "metadata": {
        "id": "zJ-ewiRFhdj9"
      },
      "execution_count": 30,
      "outputs": []
    },
    {
      "cell_type": "code",
      "source": [
        "# assign word vectors from word2vec model\n",
        "\n",
        "EMBEDDING_SIZE  = 300  # each word in word2vec model is represented using a 300 dimensional vector\n",
        "VOCABULARY_SIZE = len(tokenize.word_index) + 1\n",
        "\n",
        "# create an empty embedding matix\n",
        "embedding_weights = np.zeros((VOCABULARY_SIZE, EMBEDDING_SIZE))\n",
        "\n",
        "# create a word to index dictionary mapping\n",
        "word2id = tokenize.word_index\n",
        "\n",
        "# copy vectors from word2vec model to the words present in corpus\n",
        "for word, index in word2id.items():\n",
        "    try:\n",
        "        embedding_weights[index, :] = word2vec[word]\n",
        "    except KeyError:\n",
        "        pass"
      ],
      "metadata": {
        "id": "TfwCd2BhiYxT"
      },
      "execution_count": 31,
      "outputs": []
    },
    {
      "cell_type": "code",
      "source": [
        "# check embedding dimension\n",
        "print(\"Embeddings shape: {}\".format(embedding_weights.shape))"
      ],
      "metadata": {
        "colab": {
          "base_uri": "https://localhost:8080/"
        },
        "id": "jf_7M6yMihQu",
        "outputId": "e7a370d3-dc76-4099-e005-4a84fa6da8b9"
      },
      "execution_count": 32,
      "outputs": [
        {
          "output_type": "stream",
          "name": "stdout",
          "text": [
            "Embeddings shape: (3, 300)\n"
          ]
        }
      ]
    },
    {
      "cell_type": "code",
      "source": [
        "from tensorflow.keras.utils import to_categorical\n",
        "Y_one=to_categorical(Y_pad)"
      ],
      "metadata": {
        "id": "KHkm35Cwpimu"
      },
      "execution_count": 42,
      "outputs": []
    },
    {
      "cell_type": "code",
      "source": [
        "X_one=to_categorical(X_pad)"
      ],
      "metadata": {
        "id": "eJvojfMxp5RZ"
      },
      "execution_count": null,
      "outputs": []
    },
    {
      "cell_type": "code",
      "source": [
        "Y_one.shape"
      ],
      "metadata": {
        "colab": {
          "base_uri": "https://localhost:8080/"
        },
        "id": "u3RimXjkIdgz",
        "outputId": "b5782981-7553-4e24-b0cf-44833d175d18"
      },
      "execution_count": 43,
      "outputs": [
        {
          "output_type": "execute_result",
          "data": {
            "text/plain": [
              "(12811, 100, 3)"
            ]
          },
          "metadata": {},
          "execution_count": 43
        }
      ]
    },
    {
      "cell_type": "code",
      "source": [
        "Y_train.shape"
      ],
      "metadata": {
        "colab": {
          "base_uri": "https://localhost:8080/"
        },
        "id": "OVDjYGOSjJat",
        "outputId": "cbfcf911-9dac-458b-9edc-5446a291351f"
      },
      "execution_count": 39,
      "outputs": [
        {
          "output_type": "execute_result",
          "data": {
            "text/plain": [
              "(10248, 100)"
            ]
          },
          "metadata": {},
          "execution_count": 39
        }
      ]
    }
  ]
}