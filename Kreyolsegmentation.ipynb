{
  "nbformat": 4,
  "nbformat_minor": 0,
  "metadata": {
    "colab": {
      "provenance": [],
      "collapsed_sections": []
    },
    "kernelspec": {
      "name": "python3",
      "display_name": "Python 3"
    },
    "language_info": {
      "name": "python"
    }
  },
  "cells": [
    {
      "cell_type": "code",
      "source": [
        "import numpy as np\n",
        "import pandas as pd"
      ],
      "metadata": {
        "id": "Kpl7icQQP7Ch"
      },
      "execution_count": 96,
      "outputs": []
    },
    {
      "cell_type": "code",
      "execution_count": 97,
      "metadata": {
        "id": "yLGvNJGiPw7e"
      },
      "outputs": [],
      "source": [
        "data = pd.read_csv(\"train.tsv\",delimiter=\"\\t\",on_bad_lines='skip')"
      ]
    },
    {
      "cell_type": "code",
      "source": [
        "data.columns=['words','seg']"
      ],
      "metadata": {
        "id": "6sJNemhlQAMt"
      },
      "execution_count": 98,
      "outputs": []
    },
    {
      "cell_type": "code",
      "source": [
        "#convert to lowercase\n",
        "data['seg'] = data['seg'].str.lower()\n",
        "data['words'] = data['words'].str.lower()\n",
        "data\n"
      ],
      "metadata": {
        "colab": {
          "base_uri": "https://localhost:8080/",
          "height": 424
        },
        "id": "hW7-jWjCQAjx",
        "outputId": "8c80f9c4-3043-4117-a06c-5d74d6c85043"
      },
      "execution_count": 99,
      "outputs": [
        {
          "output_type": "execute_result",
          "data": {
            "text/plain": [
              "                  words                              seg\n",
              "0               depotwa                    d-e-p-o-t-w-a\n",
              "1      sosyopwofesyonèl  s-o-s-y-o-p-w-o-f-e-s-y-o-n-è-l\n",
              "2               vejetal                    v-e-j-e-t-a-l\n",
              "3             repibliye                r-e-p-i-b-l-i-y-e\n",
              "4                 mason                         m-a-s-on\n",
              "...                 ...                              ...\n",
              "12806              remi                          r-e-m-i\n",
              "12807     diskriminatwa        d-i-s-k-r-i-m-i-n-a-t-w-a\n",
              "12808              rejè                          r-e-j-è\n",
              "12809             manzè                         m-an-z-è\n",
              "12810            trimès                      t-r-i-m-è-s\n",
              "\n",
              "[12811 rows x 2 columns]"
            ],
            "text/html": [
              "\n",
              "  <div id=\"df-db86fee6-48b7-458c-a608-ba153895e31c\">\n",
              "    <div class=\"colab-df-container\">\n",
              "      <div>\n",
              "<style scoped>\n",
              "    .dataframe tbody tr th:only-of-type {\n",
              "        vertical-align: middle;\n",
              "    }\n",
              "\n",
              "    .dataframe tbody tr th {\n",
              "        vertical-align: top;\n",
              "    }\n",
              "\n",
              "    .dataframe thead th {\n",
              "        text-align: right;\n",
              "    }\n",
              "</style>\n",
              "<table border=\"1\" class=\"dataframe\">\n",
              "  <thead>\n",
              "    <tr style=\"text-align: right;\">\n",
              "      <th></th>\n",
              "      <th>words</th>\n",
              "      <th>seg</th>\n",
              "    </tr>\n",
              "  </thead>\n",
              "  <tbody>\n",
              "    <tr>\n",
              "      <th>0</th>\n",
              "      <td>depotwa</td>\n",
              "      <td>d-e-p-o-t-w-a</td>\n",
              "    </tr>\n",
              "    <tr>\n",
              "      <th>1</th>\n",
              "      <td>sosyopwofesyonèl</td>\n",
              "      <td>s-o-s-y-o-p-w-o-f-e-s-y-o-n-è-l</td>\n",
              "    </tr>\n",
              "    <tr>\n",
              "      <th>2</th>\n",
              "      <td>vejetal</td>\n",
              "      <td>v-e-j-e-t-a-l</td>\n",
              "    </tr>\n",
              "    <tr>\n",
              "      <th>3</th>\n",
              "      <td>repibliye</td>\n",
              "      <td>r-e-p-i-b-l-i-y-e</td>\n",
              "    </tr>\n",
              "    <tr>\n",
              "      <th>4</th>\n",
              "      <td>mason</td>\n",
              "      <td>m-a-s-on</td>\n",
              "    </tr>\n",
              "    <tr>\n",
              "      <th>...</th>\n",
              "      <td>...</td>\n",
              "      <td>...</td>\n",
              "    </tr>\n",
              "    <tr>\n",
              "      <th>12806</th>\n",
              "      <td>remi</td>\n",
              "      <td>r-e-m-i</td>\n",
              "    </tr>\n",
              "    <tr>\n",
              "      <th>12807</th>\n",
              "      <td>diskriminatwa</td>\n",
              "      <td>d-i-s-k-r-i-m-i-n-a-t-w-a</td>\n",
              "    </tr>\n",
              "    <tr>\n",
              "      <th>12808</th>\n",
              "      <td>rejè</td>\n",
              "      <td>r-e-j-è</td>\n",
              "    </tr>\n",
              "    <tr>\n",
              "      <th>12809</th>\n",
              "      <td>manzè</td>\n",
              "      <td>m-an-z-è</td>\n",
              "    </tr>\n",
              "    <tr>\n",
              "      <th>12810</th>\n",
              "      <td>trimès</td>\n",
              "      <td>t-r-i-m-è-s</td>\n",
              "    </tr>\n",
              "  </tbody>\n",
              "</table>\n",
              "<p>12811 rows × 2 columns</p>\n",
              "</div>\n",
              "      <button class=\"colab-df-convert\" onclick=\"convertToInteractive('df-db86fee6-48b7-458c-a608-ba153895e31c')\"\n",
              "              title=\"Convert this dataframe to an interactive table.\"\n",
              "              style=\"display:none;\">\n",
              "        \n",
              "  <svg xmlns=\"http://www.w3.org/2000/svg\" height=\"24px\"viewBox=\"0 0 24 24\"\n",
              "       width=\"24px\">\n",
              "    <path d=\"M0 0h24v24H0V0z\" fill=\"none\"/>\n",
              "    <path d=\"M18.56 5.44l.94 2.06.94-2.06 2.06-.94-2.06-.94-.94-2.06-.94 2.06-2.06.94zm-11 1L8.5 8.5l.94-2.06 2.06-.94-2.06-.94L8.5 2.5l-.94 2.06-2.06.94zm10 10l.94 2.06.94-2.06 2.06-.94-2.06-.94-.94-2.06-.94 2.06-2.06.94z\"/><path d=\"M17.41 7.96l-1.37-1.37c-.4-.4-.92-.59-1.43-.59-.52 0-1.04.2-1.43.59L10.3 9.45l-7.72 7.72c-.78.78-.78 2.05 0 2.83L4 21.41c.39.39.9.59 1.41.59.51 0 1.02-.2 1.41-.59l7.78-7.78 2.81-2.81c.8-.78.8-2.07 0-2.86zM5.41 20L4 18.59l7.72-7.72 1.47 1.35L5.41 20z\"/>\n",
              "  </svg>\n",
              "      </button>\n",
              "      \n",
              "  <style>\n",
              "    .colab-df-container {\n",
              "      display:flex;\n",
              "      flex-wrap:wrap;\n",
              "      gap: 12px;\n",
              "    }\n",
              "\n",
              "    .colab-df-convert {\n",
              "      background-color: #E8F0FE;\n",
              "      border: none;\n",
              "      border-radius: 50%;\n",
              "      cursor: pointer;\n",
              "      display: none;\n",
              "      fill: #1967D2;\n",
              "      height: 32px;\n",
              "      padding: 0 0 0 0;\n",
              "      width: 32px;\n",
              "    }\n",
              "\n",
              "    .colab-df-convert:hover {\n",
              "      background-color: #E2EBFA;\n",
              "      box-shadow: 0px 1px 2px rgba(60, 64, 67, 0.3), 0px 1px 3px 1px rgba(60, 64, 67, 0.15);\n",
              "      fill: #174EA6;\n",
              "    }\n",
              "\n",
              "    [theme=dark] .colab-df-convert {\n",
              "      background-color: #3B4455;\n",
              "      fill: #D2E3FC;\n",
              "    }\n",
              "\n",
              "    [theme=dark] .colab-df-convert:hover {\n",
              "      background-color: #434B5C;\n",
              "      box-shadow: 0px 1px 3px 1px rgba(0, 0, 0, 0.15);\n",
              "      filter: drop-shadow(0px 1px 2px rgba(0, 0, 0, 0.3));\n",
              "      fill: #FFFFFF;\n",
              "    }\n",
              "  </style>\n",
              "\n",
              "      <script>\n",
              "        const buttonEl =\n",
              "          document.querySelector('#df-db86fee6-48b7-458c-a608-ba153895e31c button.colab-df-convert');\n",
              "        buttonEl.style.display =\n",
              "          google.colab.kernel.accessAllowed ? 'block' : 'none';\n",
              "\n",
              "        async function convertToInteractive(key) {\n",
              "          const element = document.querySelector('#df-db86fee6-48b7-458c-a608-ba153895e31c');\n",
              "          const dataTable =\n",
              "            await google.colab.kernel.invokeFunction('convertToInteractive',\n",
              "                                                     [key], {});\n",
              "          if (!dataTable) return;\n",
              "\n",
              "          const docLinkHtml = 'Like what you see? Visit the ' +\n",
              "            '<a target=\"_blank\" href=https://colab.research.google.com/notebooks/data_table.ipynb>data table notebook</a>'\n",
              "            + ' to learn more about interactive tables.';\n",
              "          element.innerHTML = '';\n",
              "          dataTable['output_type'] = 'display_data';\n",
              "          await google.colab.output.renderOutput(dataTable, element);\n",
              "          const docLink = document.createElement('div');\n",
              "          docLink.innerHTML = docLinkHtml;\n",
              "          element.appendChild(docLink);\n",
              "        }\n",
              "      </script>\n",
              "    </div>\n",
              "  </div>\n",
              "  "
            ]
          },
          "metadata": {},
          "execution_count": 99
        }
      ]
    },
    {
      "cell_type": "code",
      "source": [
        "k = data['seg'].tolist()"
      ],
      "metadata": {
        "id": "smOTbMdERRgy"
      },
      "execution_count": 100,
      "outputs": []
    },
    {
      "cell_type": "code",
      "source": [
        "#creating sets of words with tags\n",
        "a = []\n",
        "for seg in k:\n",
        "  word_letters = seg.split('-')\n",
        "  sett = []\n",
        "  for letter in word_letters:\n",
        "    sett.append((letter[0], 'B'))\n",
        "    if len(letter) > 1:\n",
        "      for stri in letter[1:]:\n",
        "        sett.append((stri, 'I'))\n",
        "  a.append(sett)"
      ],
      "metadata": {
        "id": "i2N0NRWgXueL"
      },
      "execution_count": 101,
      "outputs": []
    },
    {
      "cell_type": "code",
      "source": [
        "vocab = list(set([w for sent in a for (w,t) in sent]))\n",
        "vocab.append('<PAD>')\n",
        "print(len(vocab))\n",
        "tags = list(set([t for sent in a for (w,t) in sent]))\n",
        "tags.append('<PAD>')\n",
        "print(tags)\n",
        "print(a[0]) "
      ],
      "metadata": {
        "colab": {
          "base_uri": "https://localhost:8080/"
        },
        "id": "Dp2fJzlNYKlh",
        "outputId": "c32f44dc-8e54-4776-d029-98cc710a4fcc"
      },
      "execution_count": 102,
      "outputs": [
        {
          "output_type": "stream",
          "name": "stdout",
          "text": [
            "28\n",
            "['I', 'B', '<PAD>']\n",
            "[('d', 'B'), ('e', 'B'), ('p', 'B'), ('o', 'B'), ('t', 'B'), ('w', 'B'), ('a', 'B')]\n"
          ]
        }
      ]
    },
    {
      "cell_type": "code",
      "source": [
        "# check length of longest sentence\n",
        "max_word = [len(seq) for seq in a]\n",
        "print(\"Length of longest Word: {}\".format(max(max_word)))"
      ],
      "metadata": {
        "colab": {
          "base_uri": "https://localhost:8080/"
        },
        "id": "oTl6mqamYKu9",
        "outputId": "914bee1b-c6e0-4d5f-ab22-0f6694931ea5"
      },
      "execution_count": 103,
      "outputs": [
        {
          "output_type": "stream",
          "name": "stdout",
          "text": [
            "Length of longest Word: 18\n"
          ]
        }
      ]
    },
    {
      "cell_type": "code",
      "source": [
        "from tensorflow.keras.preprocessing.sequence import pad_sequences\n",
        "max_len = max(max_word)\n",
        "word2index = {w: i for i, w in enumerate(vocab)}\n",
        "tag2index = {t: i for i, t in enumerate(tags)}\n",
        "onehot = [[word2index[w[0]] for w in s] for s in a]\n",
        "X = pad_sequences(maxlen=max_len, sequences=onehot, padding=\"post\", value=len(vocab)-1)"
      ],
      "metadata": {
        "id": "d9Ey-igy-PIx"
      },
      "execution_count": 104,
      "outputs": []
    },
    {
      "cell_type": "code",
      "source": [
        "from tensorflow.keras.utils import to_categorical\n",
        "onehot_y = [[tag2index[w[1]] for w in s] for s in res]\n",
        "y = pad_sequences(maxlen=max_len, sequences=onehot_y, padding=\"post\", value=tag2index[\"<PAD>\"])\n",
        "y = np.asarray([to_categorical(i, num_classes=len(tags)) for i in y])"
      ],
      "metadata": {
        "id": "HhANLDYH-uGS"
      },
      "execution_count": 105,
      "outputs": []
    },
    {
      "cell_type": "code",
      "source": [
        "# length of all words\n",
        "print(len(X))\n",
        "# train test split\n",
        "X_train = X[:10000]\n",
        "y_train = y[:10000]\n",
        "X_test = X[10000:]\n",
        "y_test = y[10000:]"
      ],
      "metadata": {
        "colab": {
          "base_uri": "https://localhost:8080/"
        },
        "id": "tUNr_yp1H7j7",
        "outputId": "04aabb2c-c200-4e1a-9b61-cf9886bf6896"
      },
      "execution_count": 106,
      "outputs": [
        {
          "output_type": "stream",
          "name": "stdout",
          "text": [
            "12811\n"
          ]
        }
      ]
    },
    {
      "cell_type": "code",
      "source": [
        "# basic bilstm referred from dr. kevin scanell\n",
        "from tensorflow.keras.models import Sequential\n",
        "from tensorflow.keras.layers import LSTM, Embedding, Dense, TimeDistributed, Dropout, Bidirectional \n",
        "from tensorflow.keras.metrics import CategoricalAccuracy\n",
        "model = Sequential()\n",
        "model.add(Embedding(input_dim=len(vocab), output_dim=50, input_length=max_len))\n",
        "model.add(Bidirectional(LSTM(units=100, return_sequences=True, recurrent_dropout=0.1)))\n",
        "model.add(TimeDistributed(Dense(len(tags), activation=\"softmax\")))\n",
        "model.compile(optimizer=\"adam\", loss=\"categorical_crossentropy\", metrics=[\"accuracy\"])\n",
        "print(model.summary())"
      ],
      "metadata": {
        "colab": {
          "base_uri": "https://localhost:8080/"
        },
        "id": "jzBFoi_l_GN-",
        "outputId": "9acd9287-3b6d-4e4e-904b-f3992bc01b24"
      },
      "execution_count": 107,
      "outputs": [
        {
          "output_type": "stream",
          "name": "stdout",
          "text": [
            "Model: \"sequential_6\"\n",
            "_________________________________________________________________\n",
            " Layer (type)                Output Shape              Param #   \n",
            "=================================================================\n",
            " embedding_6 (Embedding)     (None, 18, 50)            1400      \n",
            "                                                                 \n",
            " bidirectional_6 (Bidirectio  (None, 18, 200)          120800    \n",
            " nal)                                                            \n",
            "                                                                 \n",
            " time_distributed_6 (TimeDis  (None, 18, 3)            603       \n",
            " tributed)                                                       \n",
            "                                                                 \n",
            "=================================================================\n",
            "Total params: 122,803\n",
            "Trainable params: 122,803\n",
            "Non-trainable params: 0\n",
            "_________________________________________________________________\n",
            "None\n"
          ]
        }
      ]
    },
    {
      "cell_type": "code",
      "source": [
        "history = model.fit(X_train, y_train, batch_size=5, epochs=5, validation_split=0.1, verbose=1)"
      ],
      "metadata": {
        "colab": {
          "base_uri": "https://localhost:8080/"
        },
        "id": "ovoudy9djk0q",
        "outputId": "9433e480-593f-46a8-f0fb-ff7bd64f724d"
      },
      "execution_count": 108,
      "outputs": [
        {
          "output_type": "stream",
          "name": "stdout",
          "text": [
            "Epoch 1/5\n",
            "1800/1800 [==============================] - 125s 67ms/step - loss: 0.0374 - accuracy: 0.9872 - val_loss: 0.0053 - val_accuracy: 0.9988\n",
            "Epoch 2/5\n",
            "1800/1800 [==============================] - 115s 64ms/step - loss: 0.0027 - accuracy: 0.9993 - val_loss: 0.0026 - val_accuracy: 0.9992\n",
            "Epoch 3/5\n",
            "1800/1800 [==============================] - 109s 61ms/step - loss: 0.0015 - accuracy: 0.9995 - val_loss: 0.0014 - val_accuracy: 0.9997\n",
            "Epoch 4/5\n",
            "1800/1800 [==============================] - 112s 62ms/step - loss: 0.0011 - accuracy: 0.9997 - val_loss: 0.0015 - val_accuracy: 0.9996\n",
            "Epoch 5/5\n",
            "1800/1800 [==============================] - 110s 61ms/step - loss: 9.2203e-04 - accuracy: 0.9997 - val_loss: 0.0012 - val_accuracy: 0.9998\n"
          ]
        }
      ]
    },
    {
      "cell_type": "code",
      "source": [
        "test_sent = 3\n",
        "pred = model.predict(np.array([X_test[test_sent]]))\n",
        "p = np.argmax(pred, axis=-1)\n",
        "p_actual = np.argmax(y_test[test_sent],axis=-1)\n",
        "print(p[0])\n",
        "print(p_actual[0])"
      ],
      "metadata": {
        "colab": {
          "base_uri": "https://localhost:8080/"
        },
        "id": "YbpdZ6H6_KWK",
        "outputId": "d519edc8-fffa-4b27-c325-2a4db7c4637f"
      },
      "execution_count": 109,
      "outputs": [
        {
          "output_type": "stream",
          "name": "stdout",
          "text": [
            "[1 1 1 1 1 1 2 2 2 2 2 2 2 2 2 2 2 2]\n",
            "1\n"
          ]
        }
      ]
    },
    {
      "cell_type": "code",
      "source": [
        "y_actual = []\n",
        "y_pred = []\n",
        "for test_sent in range(len(X_test)):\n",
        "  pred = model.predict(np.array([X_test[test_sent]]))\n",
        "  p = np.argmax(pred, axis=-1)\n",
        "  p_actual = np.argmax(y_test[test_sent],axis=-1)\n",
        "  for i in range(len(p_actual)):\n",
        "    if p_actual[i] == 2: \n",
        "      break\n",
        "    y_actual.append(p_actual[i])\n",
        "    y_pred.append(p[0][i])"
      ],
      "metadata": {
        "id": "h3emtDD3AFUp"
      },
      "execution_count": 111,
      "outputs": []
    },
    {
      "cell_type": "code",
      "source": [
        "# f1 score for all labels\n",
        "from sklearn.metrics import precision_recall_fscore_support\n",
        "precision_recall_fscore_support(y_actual, y_pred, average=None, labels=[0, 1, 2])"
      ],
      "metadata": {
        "colab": {
          "base_uri": "https://localhost:8080/"
        },
        "id": "BOzre1FJANPD",
        "outputId": "82b5cee5-d114-4b8f-e82d-7ae5e1e0befa"
      },
      "execution_count": 112,
      "outputs": [
        {
          "output_type": "stream",
          "name": "stderr",
          "text": [
            "/usr/local/lib/python3.7/dist-packages/sklearn/metrics/_classification.py:1318: UndefinedMetricWarning: Precision and F-score are ill-defined and being set to 0.0 in labels with no predicted samples. Use `zero_division` parameter to control this behavior.\n",
            "  _warn_prf(average, modifier, msg_start, len(result))\n",
            "/usr/local/lib/python3.7/dist-packages/sklearn/metrics/_classification.py:1318: UndefinedMetricWarning: Recall and F-score are ill-defined and being set to 0.0 in labels with no true samples. Use `zero_division` parameter to control this behavior.\n",
            "  _warn_prf(average, modifier, msg_start, len(result))\n"
          ]
        },
        {
          "output_type": "execute_result",
          "data": {
            "text/plain": [
              "(array([0.99876161, 0.99949164, 0.        ]),\n",
              " array([0.99445129, 0.99988699, 0.        ]),\n",
              " array([0.99660179, 0.99968927, 0.        ]),\n",
              " array([ 1622, 17697,     0]))"
            ]
          },
          "metadata": {},
          "execution_count": 112
        }
      ]
    },
    {
      "cell_type": "code",
      "source": [
        "# f1 score for all labels\n",
        "from sklearn.metrics import precision_recall_fscore_support\n",
        "precision_recall_fscore_support(y_actual, y_pred, average=None, labels=[1])"
      ],
      "metadata": {
        "colab": {
          "base_uri": "https://localhost:8080/"
        },
        "id": "jkGcGc_5kQvl",
        "outputId": "2cd34e27-b4ee-4aaa-b9f0-82765c0a6121"
      },
      "execution_count": 113,
      "outputs": [
        {
          "output_type": "execute_result",
          "data": {
            "text/plain": [
              "(array([0.99949164]), array([0.99988699]), array([0.99968927]), array([17697]))"
            ]
          },
          "metadata": {},
          "execution_count": 113
        }
      ]
    }
  ]
}